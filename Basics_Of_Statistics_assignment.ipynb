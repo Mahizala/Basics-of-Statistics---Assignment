{
  "nbformat": 4,
  "nbformat_minor": 0,
  "metadata": {
    "colab": {
      "provenance": [],
      "toc_visible": true
    },
    "kernelspec": {
      "name": "python3",
      "display_name": "Python 3"
    },
    "language_info": {
      "name": "python"
    }
  },
  "cells": [
    {
      "cell_type": "markdown",
      "source": [
        "#Basics of Stastistics"
      ],
      "metadata": {
        "id": "r2lWUTbLug4n"
      }
    },
    {
      "cell_type": "markdown",
      "source": [
        "**Q1. Explain the different types of data (qualitative and quantitative) and provide examples of each. Discuss\n",
        "nominal, ordinal, interval, and ratio scales.**\n",
        "\n",
        "--> QUALITATIVE DATA- Qualitative data analysis describes information and cannot be measured or counted. It refers to the words or labels used to describe certain characteristics or traits.\n",
        "\n",
        "You would turn to qualitative data to answer the \"why?\" or \"how?\" questions. It is often used to investigate open-ended studies, allowing participants (or customers) to show their true feelings and actions without guidance.\n",
        "\n",
        "Some examples of qualitative data:\n",
        "\n",
        "1.   Why do people prefer using one product over another?\n",
        "\n",
        "2.  How do customers feel about their customer service experience?\n",
        "\n",
        "3.  What do people think about a new feature in the app?\n",
        "\n",
        "\n",
        "QUANTITATIVE DATA-Quantitative data refers to any information that can be quantified — that is, numbers. If it can be counted or measured, and given a numerical value, it's quantitative in nature. Think of it as a measuring stick.\n",
        "\n",
        "Quantitative variables can tell you \"how many,\" \"how much,\" or \"how often.\"\n",
        "\n",
        "Some examples of quantitative data:  \n",
        "\n",
        "1. How many people attended last week's webinar?\n",
        "2. How much revenue did our company make last year?\n",
        "\n",
        "\n",
        "\n",
        "\n",
        "\n",
        "\n",
        "\n",
        "\n",
        "\n",
        "\n"
      ],
      "metadata": {
        "id": "qaRyd88eusUM"
      }
    },
    {
      "cell_type": "markdown",
      "source": [
        "**Levels Of Measurement**\n",
        "\n",
        "* **Nominal scales**- Nominal data is labelled into mutually exclusive categories within a variable. These categories cannot be ordered in a meaningful way.\n",
        "\n",
        "For example, preferred mode of transportation is a nominal variable, because the data is sorted into categories: car, bus, train, tram, bicycle, etc\n",
        "\n",
        "*  **Ordinal scales**- Ordinal data is classified into categories within a variable that have a natural rank order. However, the distances between the categories are uneven or unknown.\n",
        "\n",
        "For example, the variable “frequency of physical exercise” can be categorized into the following:\n",
        "\n",
        "  1.Never\t2. Rarely\t3. Sometimes\t4. Often\t5. Always\n",
        "\n",
        "*  **Interval sacle**- Interval data is measured along a numerical scale that has equal distances between adjacent values. These distances are called “intervals.”\n",
        "\n",
        "There is no true zero on an interval scale, which is what distinguishes it from a ratio scale. On an interval scale, zero is an arbitrary point, not a complete absence of the variable.\n",
        "\n",
        "Common examples of interval scales include standardized tests, such as the SAT, and psychological inventories.\n",
        "\n",
        "*  **Ratio scales**- A ratio scale is a quantitative scale where there is a true zero and equal intervals between neighboring points. Unlike on an interval scale, a zero on a ratio scale means there is a total absence of the variable you are measuring.\n",
        "\n",
        "Length, area, and population are examples of ratio scales.\n",
        "\n",
        "\n",
        "\n",
        "\n",
        "\n",
        "\n",
        "\n",
        "\n",
        "\n"
      ],
      "metadata": {
        "id": "2E-OLvXoxOeE"
      }
    },
    {
      "cell_type": "markdown",
      "source": [
        "**Q2. What are the measures of central tendency, and when should you use each? Discuss the mean, median,\n",
        "and mode with examples and situations where each is appropriate.**\n",
        "\n",
        "--> A measure of central tendency (also referred to as measures of centre or central location) is a summary measure that attempts to describe a whole set of data with a single value that represents the middle or centre of its distribution.\n",
        "\n",
        "There are three main measures of central tendency:\n",
        "\n",
        "* Mean\n",
        "* Meadian\n",
        "* Mode\n",
        "\n",
        "\n",
        "1. **Mean**\n",
        "\n",
        "The mean is the sum of the value of each observation in a dataset divided by the number of observations. This is also known as the arithmetic average.\n",
        "\n",
        "Example-\n",
        "Looking at the retirement age distribution :\n",
        "\n",
        "54, 54, 54, 55, 56, 57, 57, 58, 58, 60, 60\n",
        "\n",
        "The mean is calculated by adding together all the values (54+54+54+55+56+57+57+58+58+60+60 = 623) and dividing by the number of observations (11) which equals 56.6 years.\n",
        "\n",
        "2. **Median**\n",
        "\n",
        "The median is the middle value in distribution when the values are arranged in ascending or descending order.\n",
        "\n",
        "The median divides the distribution in half (there are 50% of observations on either side of the median value). In a distribution with an odd number of observations, the median value is the middle value.  \n",
        "\n",
        "Example-\n",
        "Looking at the retirement age distribution (which has 11 observations), the median is the middle value, which is 57 years:  \n",
        "\n",
        "54, 54, 54, 55, 56, 57, 57, 58, 58, 60, 60 (sorted data)\n",
        "\n",
        "When the distribution has an even number of observations, the median value is the mean of the two middle values.  In the following distribution, the two middle values are 56 and 57, therefore the median equals 56.5 years:\n",
        "\n",
        "52, 54, 54, 54, 55, 56, 57, 57, 58, 58, 60, 60\n",
        "\n",
        "3. **Mode**\n",
        "\n",
        "The mode is the most commonly occurring value in a distribution.\n",
        "\n",
        "Consider this dataset showing the retirement age of 11 people, in whole years:\n",
        "\n",
        "54, 54, 54, 55, 56, 57, 57, 58, 58, 60, 60\n",
        "\n",
        "\n",
        "The frequency distribution of above data\n",
        "The most commonly occurring value is 54, therefore the mode of this distribution is 54 years.  \n",
        "\n"
      ],
      "metadata": {
        "id": "H1uMIDmpux_z"
      }
    },
    {
      "cell_type": "markdown",
      "source": [
        "**Q3. Explain the concept of dispersion. How do variance and standard deviation measure the spread of data?**\n",
        "\n",
        "--> In statistics, dispersion refers to the spread or variability of data points around a central value (like the mean). Variance and standard deviation are key measures of dispersion, with standard deviation being the square root of variance and expressed in the same units as the original data.\n",
        "\n",
        "\n",
        "**Variance:**\n",
        "\n",
        "Variance measures the average of the squared differences of each data point from the mean. A higher variance indicates that the data points are more spread out, while a lower variance suggests the data points are clustered closer to the mean.\n",
        "\n",
        "**Standard Deviation:**\n",
        "\n",
        "Standard deviation is the square root of the variance. It provides a measure of the average distance of data points from the mean, expressed in the same units as the original data. A larger standard deviation indicates greater variability, while a smaller standard deviation indicates that the data points are clustered more tightly around the mean.\n",
        "\n",
        "**Relationship:**\n",
        "\n",
        "Standard deviation is preferred over variance because it's easier to interpret, as it's in the same units as the original data, whereas variance is in squared units."
      ],
      "metadata": {
        "id": "1qb_tGiv31ju"
      }
    },
    {
      "cell_type": "markdown",
      "source": [
        "**Q4. What is a box plot, and what can it tell you about the distribution of data?**\n",
        "\n",
        "--> A boxplot is a graph that gives a visual indication of how a data set’s 25th percentile, 50th percentile, 75th percentile, minimum, maximum and outlier values are spread out and compare to each other.\n",
        "\n",
        "A boxplot is drawn as a box with a line inside of it, and has extended lines attached to each of its sides (known as “whiskers”). The box is used to represent the interquartile range (IQR) — or the 50 percent of data points lying above the first quartile and below the third quartile — in the given data set. The whiskers are used to represent the variability of the minimum, maximum and any outlier data points in comparison to the IQR (the longer the whisker, the wider the variability of the attached data points to the IQR).\n",
        "\n",
        "The box’s left edge or bottom end represents the first/lower quartile (Q1; the 25th percentile) of the data. The line inside the box represents the median (Q2; the 50th percentile) of the data. The box’s right edge or top end represents the third/upper quartile (Q3; the 75th percentile) of the data. If a dot, cross or diamond symbol is present inside the box, this represents the mean of the data.\n",
        "\n",
        "As for whiskers of the boxplot, the left whisker shows the minimum data value and its variability in comparison to the IQR. The right whisker shows the maximum data value and its variability in comparison to the IQR. Whiskers also help present outlier values in comparison to the rest of the data, as outliers sit on the outside of whisker lines."
      ],
      "metadata": {
        "id": "qBqoeLuW5tBf"
      }
    },
    {
      "cell_type": "code",
      "source": [
        "# Example box plot\n",
        "\n",
        "import matplotlib.pyplot as plt\n",
        "import numpy as np"
      ],
      "metadata": {
        "id": "nOkPq-hd72TX"
      },
      "execution_count": 2,
      "outputs": []
    },
    {
      "cell_type": "code",
      "source": [
        "#Generating some random dataset to create box plot\n",
        "\n",
        "np.random.seed(10)\n",
        "data = np.random.normal(0, 1, 100)\n",
        "plt.boxplot(data)\n",
        "plt.title(' Basic BoxPlot')\n",
        "plt.show()"
      ],
      "metadata": {
        "colab": {
          "base_uri": "https://localhost:8080/",
          "height": 452
        },
        "id": "upcA4y_Z9dn5",
        "outputId": "ec57a32f-4ab0-4011-f5a6-b96e4410c68f"
      },
      "execution_count": 7,
      "outputs": [
        {
          "output_type": "display_data",
          "data": {
            "text/plain": [
              "<Figure size 640x480 with 1 Axes>"
            ],
            "image/png": "[encoded data removed]"
          },
          "metadata": {}
        }
      ]
    },
    {
      "cell_type": "markdown",
      "source": [
        "**Q5.Discuss the role of random sampling in making inferences about populations.**\n",
        "\n",
        "--> Random sampling is a method of choosing a sample of observations from a population to make assumptions about the population. It is also called probability sampling. The counterpart of this sampling is Non-probability sampling or Non-random sampling.\n",
        "\n",
        "Random sampling is crucial for making valid inferences about a population because it ensures the sample is representative, minimizing bias and allowing for generalizations about the larger group based on the sample data.\n",
        "\n",
        "\n"
      ],
      "metadata": {
        "id": "zcfhip4j-Deq"
      }
    },
    {
      "cell_type": "markdown",
      "source": [
        "**Q6. Explain the concept of skewness and its types. How does skewness affect the interpretation of data?**\n",
        "\n",
        "--> Skewness is a measure of the asymmetry of a distribution. A distribution is asymmetrical when its left and right side are not mirror images.\n",
        "\n",
        "A distribution can have right (or positive), left (or negative), or zero skewness. A right-skewed distribution is longer on the right side of its peak, and a left-skewed distribution is longer on the left side of its peak:\n",
        "\n",
        "![Screenshot 2025-03-07 103705.png](data:image/png;base64,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)\n",
        "\n",
        "Types of Skewness\n",
        "1. **Positive Skewness**(Right Skew)\n",
        "\n",
        "If the given distribution is shifted to the left and with its tail on the right side, it is a positively skewed distribution. It is also called the right-skewed distribution. A tail is referred to as the tapering of the curve differently from the data points on the other side.\n",
        "\n",
        "As the name suggests, a positively skewed distribution assumes a skewness value of more than zero. Since the skewness of the given distribution is on the right, the mean value is greater than the median and moves towards the right, and the mode occurs at the highest frequency of the distribution.\n",
        "\n",
        "2. **Negative Skewness**(Left Skew)\n",
        "\n",
        "If the given distribution is shifted to the right and with its tail on the left side, it is a negatively skewed distribution. It is also called a left-skewed distribution. The skewness value of any distribution showing a negative skew is always less than zero. The skewness of the given distribution is on the left; hence, the mean value is less than the median and moves towards the left, and the mode occurs at the highest frequency of the distribution.\n",
        "\n",
        "3.**Zero Skewness**(Zero)\n",
        "\n",
        "Zero skewness indicates a perfectly symmetrical distribution, where the mean, median, and mode are equal. In a symmetrical distribution, the data points are evenly distributed around the central point.\n",
        "\n",
        "\n",
        "\n"
      ],
      "metadata": {
        "id": "82t0xX_f_fXl"
      }
    },
    {
      "cell_type": "markdown",
      "source": [
        "**Q7. What is the interquartile range (IQR), and how is it used to detect outliers?**\n",
        "\n",
        "--> The interquartile range defines the difference between the third and the first quartile. Quartiles are the partitioned values that divide the whole series into 4 equal parts. So, there are 3 quartiles. First Quartile is denoted by Q1 known as the lower quartile, the second Quartile is denoted by Q2 and the third Quartile is denoted by Q3 known as the upper quartile. Therefore, the interquartile range is equal to the upper quartile minus lower quartile.\n",
        "\n",
        "\n",
        "\n",
        "\n",
        "Using IQR to detect outliers:\n",
        "\n",
        "1. Calculate the fences:\n",
        "\n",
        "Upper Fence: Q3 + 1.5 * IQR.\n",
        "Lower Fence: Q1 - 1.5 * IQR.\n",
        "\n",
        "2. Identify outliers: Any data point that falls below the lower fence or above the upper fence is considered a potential outlier."
      ],
      "metadata": {
        "id": "TTBdIgxTBgq-"
      }
    },
    {
      "cell_type": "markdown",
      "source": [
        "**Q8.Discuss the conditions under which the binomial distribution is used.**\n",
        "\n",
        "--> In many cases, it is appropriate to summarize a group of independent observations by the number of observations in the group that represent one of two outcomes. For example, the proportion of individuals in a random sample who support one of two political candidates fits this description. In this case, the statistic  is the count X of voters who support the candidate divided by the total number of individuals in the group n. This provides an estimate of the parameter p, the proportion of individuals who support the candidate in the entire population.\n",
        "The binomial distribution describes the behavior of a count variable X if the following conditions apply:\n",
        "\n",
        "1: The number of observations n is fixed.\n",
        "\n",
        "2: Each observation is independent.\n",
        "\n",
        "3: Each observation represents one of two outcomes (\"success\" or \"failure\").\n",
        "\n",
        "4: The probability of \"success\" p is the same for each outcome.\n",
        "\n",
        "If these conditions are met, then X has a binomial distribution with parameters n and p, abbreviated B(n,p)."
      ],
      "metadata": {
        "id": "jpIZlr_nDAqP"
      }
    },
    {
      "cell_type": "markdown",
      "source": [
        "**Q9.  Explain the properties of the normal distribution and the empirical rule (68-95-99.7 rule).**\n",
        "\n",
        "--> **Properties of Normal Distribution:**\n",
        "1. It is symmetric-\n",
        "A normal distribution comes with a perfectly symmetrical shape. This means that the distribution curve can be divided in the middle to produce two equal halves. The symmetric shape occurs when one-half of the observations fall on each side of the curve.\n",
        "\n",
        "2. The mean, median, and mode are equal-\n",
        "The middle point of a normal distribution is the point with the maximum frequency, which means that it possesses the most observations of the variable. The midpoint is also the point where these three measures fall. The measures are usually equal in a perfectly (normal) distribution.\n",
        "\n",
        "3. Empirical rule-\n",
        "In normally distributed data, there is a constant proportion of distance lying under the curve between the mean and specific number of standard deviations from the mean. For example, 68.25% of all cases fall within +/- one standard deviation from the mean. 95% of all cases fall within +/- two standard deviations from the mean, while 99% of all cases fall within +/- three standard deviations from the mean.\n",
        "\n",
        "4. Skewness and kurtosis-\n",
        "Skewness and kurtosis are coefficients that measure how different a distribution is from a normal distribution. Skewness measures the symmetry of a normal distribution while kurtosis measures the thickness of the tail ends relative to the tails of a normal distribution.\n",
        "\n",
        "**Emperical rule**\n",
        "\n",
        "The empirical rule, also known as the 68-95-99.7 rule, represents the percentages of values within an interval for a normal distribution. That is, 68 percent of data is within one standard deviation of the mean; 95 percent of data is within two standard deviation of the mean and 99.7 percent of data is within three standard deviation of the mean.\n",
        "\n"
      ],
      "metadata": {
        "id": "NPP8WwPEFlTy"
      }
    },
    {
      "cell_type": "markdown",
      "source": [
        "**Q10.  Provide a real-life example of a Poisson process and calculate the probability for a specific event.**\n",
        "\n",
        "--> Poisson process Real-life Example: Website Traffic\n",
        "\n",
        "Consider a website. The number of visitors arriving per minute can often be modeled as a Poisson process. Let's say, on average, a website receives 10 visitors per minute.\n",
        "\n",
        "Calculating Probability:\n",
        "\n",
        "To calculate the probability of, say, exactly 12 visitors arriving in a minute, we use the Poisson probability formula:\n",
        "\n",
        "P(X = k) = (e^(-λ) * λ^k) / k!\n",
        "Where:\n",
        "\n",
        "P(X = k) is the probability of k events.\n",
        "e is Euler's number (approximately 2.71828).\n",
        "λ (lambda) is the average rate (10 visitors/minute in our example).\n",
        "k is the number of events (12 visitors).\n",
        "k! is k factorial.\n",
        "Applying the formula:\n",
        "\n",
        "P(X = 12) = (e^(-10) * 10^12) / 12!\n",
        "Calculating this will give you the precise probability.\n",
        "\n",
        "In essence: The Poisson process provides a framework for understanding and predicting the likelihood of random events, with applications ranging from customer arrivals to radioactive decay."
      ],
      "metadata": {
        "id": "q6tc7dotHmZV"
      }
    },
    {
      "cell_type": "markdown",
      "source": [
        "**Q11.  Explain what a random variable is and differentiate between discrete and continuous random variables.**\n",
        "\n",
        "--> A random variable is a variable whose value is unknown or a function that assigns values to each of an experiment's outcomes. A random variable can be either discrete (having specific values) or continuous (any value in a continuous range).\n",
        "\n",
        "\n",
        "**Difference between Discrete and Continuos random vasriable-**\n",
        "\n",
        " Discrete Random Variables:\n",
        "\n",
        "1. Definition: A discrete random variable can only take on a finite or countably infinite number of distinct values.\n",
        "\n",
        "2. Examples: The number of heads when flipping a coin three times (0, 1, 2, or 3 heads), the number of cars passing a certain point in an hour, or the number of students in a classroom.\n",
        "\n",
        "3. Counting: Discrete variables are often obtained by counting.\n",
        "Probability Mass Function (PMF): The probability of each specific value is defined.\n",
        "\n",
        "Continuous Random Variables:\n",
        "\n",
        "1. Definition: A continuous random variable can take any value within a specified range, including values between those values.\n",
        "\n",
        "2. Examples: Height, weight, temperature, or time.\n",
        "\n",
        "3. Measuring: Continuous variables are often obtained by measuring.\n",
        "Probability Density Function (PDF): The probability of a specific value is zero, but the probability of a value within a range is defined."
      ],
      "metadata": {
        "id": "2jzZAt1LImDk"
      }
    },
    {
      "cell_type": "markdown",
      "source": [
        "**Q12.Provide an example dataset, calculate both covariance and correlation, and interpret the results.**\n",
        "\n"
      ],
      "metadata": {
        "id": "mgIkqFOZK3OZ"
      }
    },
    {
      "cell_type": "code",
      "source": [
        "# Example dataset\n",
        "import pandas as pd\n",
        "import numpy as np"
      ],
      "metadata": {
        "id": "GMQY_iTmMjzS"
      },
      "execution_count": 23,
      "outputs": []
    },
    {
      "cell_type": "code",
      "source": [
        "def dataset1():\n",
        "    data = {'Student': ['A', 'B', 'C', 'D', 'E'],\n",
        "            'Hours': [2, 3, 4, 5, 6],\n",
        "            'Studied': [60, 65, 75, 80, 85]}\n",
        "    df = pd.DataFrame(data)\n",
        "    print(df)"
      ],
      "metadata": {
        "id": "ZFS0BZYGP8i3"
      },
      "execution_count": 24,
      "outputs": []
    },
    {
      "cell_type": "code",
      "source": [
        "dataset1()"
      ],
      "metadata": {
        "colab": {
          "base_uri": "https://localhost:8080/"
        },
        "id": "wIZGzSsvPqmJ",
        "outputId": "a2a23f6c-fbf0-4fb1-a0d5-7cc9011632fa"
      },
      "execution_count": 25,
      "outputs": [
        {
          "output_type": "stream",
          "name": "stdout",
          "text": [
            "  Student  Hours  Studied\n",
            "0       A      2       60\n",
            "1       B      3       65\n",
            "2       C      4       75\n",
            "3       D      5       80\n",
            "4       E      6       85\n"
          ]
        }
      ]
    },
    {
      "cell_type": "code",
      "source": [
        "#Correlation\n",
        "df.corr(numeric_only=True)"
      ],
      "metadata": {
        "colab": {
          "base_uri": "https://localhost:8080/",
          "height": 81
        },
        "id": "1EM-SZeXQHzq",
        "outputId": "2ebdabbc-1e77-4f73-85d8-c0141318c38f"
      },
      "execution_count": 26,
      "outputs": [
        {
          "output_type": "execute_result",
          "data": {
            "text/plain": [
              "     0\n",
              "0  1.0"
            ],
            "text/html": [
              "\n",
              "  <div id=\"df-e339df51-35ce-4ab8-92e7-46aa81649458\" class=\"colab-df-container\">\n",
              "    <div>\n",
              "<style scoped>\n",
              "    .dataframe tbody tr th:only-of-type {\n",
              "        vertical-align: middle;\n",
              "    }\n",
              "\n",
              "    .dataframe tbody tr th {\n",
              "        vertical-align: top;\n",
              "    }\n",
              "\n",
              "    .dataframe thead th {\n",
              "        text-align: right;\n",
              "    }\n",
              "</style>\n",
              "<table border=\"1\" class=\"dataframe\">\n",
              "  <thead>\n",
              "    <tr style=\"text-align: right;\">\n",
              "      <th></th>\n",
              "      <th>0</th>\n",
              "    </tr>\n",
              "  </thead>\n",
              "  <tbody>\n",
              "    <tr>\n",
              "      <th>0</th>\n",
              "      <td>1.0</td>\n",
              "    </tr>\n",
              "  </tbody>\n",
              "</table>\n",
              "</div>\n",
              "    <div class=\"colab-df-buttons\">\n",
              "\n",
              "  <div class=\"colab-df-container\">\n",
              "    <button class=\"colab-df-convert\" onclick=\"convertToInteractive('df-e339df51-35ce-4ab8-92e7-46aa81649458')\"\n",
              "            title=\"Convert this dataframe to an interactive table.\"\n",
              "            style=\"display:none;\">\n",
              "\n",
              "  <svg xmlns=\"http://www.w3.org/2000/svg\" height=\"24px\" viewBox=\"0 -960 960 960\">\n",
              "    <path d=\"M120-120v-720h720v720H120Zm60-500h600v-160H180v160Zm220 220h160v-160H400v160Zm0 220h160v-160H400v160ZM180-400h160v-160H180v160Zm440 0h160v-160H620v160ZM180-180h160v-160H180v160Zm440 0h160v-160H620v160Z\"/>\n",
              "  </svg>\n",
              "    </button>\n",
              "\n",
              "  <style>\n",
              "    .colab-df-container {\n",
              "      display:flex;\n",
              "      gap: 12px;\n",
              "    }\n",
              "\n",
              "    .colab-df-convert {\n",
              "      background-color: #E8F0FE;\n",
              "      border: none;\n",
              "      border-radius: 50%;\n",
              "      cursor: pointer;\n",
              "      display: none;\n",
              "      fill: #1967D2;\n",
              "      height: 32px;\n",
              "      padding: 0 0 0 0;\n",
              "      width: 32px;\n",
              "    }\n",
              "\n",
              "    .colab-df-convert:hover {\n",
              "      background-color: #E2EBFA;\n",
              "      box-shadow: 0px 1px 2px rgba(60, 64, 67, 0.3), 0px 1px 3px 1px rgba(60, 64, 67, 0.15);\n",
              "      fill: #174EA6;\n",
              "    }\n",
              "\n",
              "    .colab-df-buttons div {\n",
              "      margin-bottom: 4px;\n",
              "    }\n",
              "\n",
              "    [theme=dark] .colab-df-convert {\n",
              "      background-color: #3B4455;\n",
              "      fill: #D2E3FC;\n",
              "    }\n",
              "\n",
              "    [theme=dark] .colab-df-convert:hover {\n",
              "      background-color: #434B5C;\n",
              "      box-shadow: 0px 1px 3px 1px rgba(0, 0, 0, 0.15);\n",
              "      filter: drop-shadow(0px 1px 2px rgba(0, 0, 0, 0.3));\n",
              "      fill: #FFFFFF;\n",
              "    }\n",
              "  </style>\n",
              "\n",
              "    <script>\n",
              "      const buttonEl =\n",
              "        document.querySelector('#df-e339df51-35ce-4ab8-92e7-46aa81649458 button.colab-df-convert');\n",
              "      buttonEl.style.display =\n",
              "        google.colab.kernel.accessAllowed ? 'block' : 'none';\n",
              "\n",
              "      async function convertToInteractive(key) {\n",
              "        const element = document.querySelector('#df-e339df51-35ce-4ab8-92e7-46aa81649458');\n",
              "        const dataTable =\n",
              "          await google.colab.kernel.invokeFunction('convertToInteractive',\n",
              "                                                    [key], {});\n",
              "        if (!dataTable) return;\n",
              "\n",
              "        const docLinkHtml = 'Like what you see? Visit the ' +\n",
              "          '<a target=\"_blank\" href=https://colab.research.google.com/notebooks/data_table.ipynb>data table notebook</a>'\n",
              "          + ' to learn more about interactive tables.';\n",
              "        element.innerHTML = '';\n",
              "        dataTable['output_type'] = 'display_data';\n",
              "        await google.colab.output.renderOutput(dataTable, element);\n",
              "        const docLink = document.createElement('div');\n",
              "        docLink.innerHTML = docLinkHtml;\n",
              "        element.appendChild(docLink);\n",
              "      }\n",
              "    </script>\n",
              "  </div>\n",
              "\n",
              "\n",
              "    </div>\n",
              "  </div>\n"
            ],
            "application/vnd.google.colaboratory.intrinsic+json": {
              "type": "dataframe",
              "summary": "{\n  \"name\": \"df\",\n  \"rows\": 1,\n  \"fields\": [\n    {\n      \"column\": 0,\n      \"properties\": {\n        \"dtype\": \"number\",\n        \"std\": null,\n        \"min\": 1.0,\n        \"max\": 1.0,\n        \"num_unique_values\": 1,\n        \"samples\": [\n          1.0\n        ],\n        \"semantic_type\": \"\",\n        \"description\": \"\"\n      }\n    }\n  ]\n}"
            }
          },
          "metadata": {},
          "execution_count": 26
        }
      ]
    },
    {
      "cell_type": "markdown",
      "source": [
        "Interpretation of the Correlation Coefficient:\n",
        "\n",
        "* Value close to +1: Indicates a strong positive linear relationship. In this case, it would suggest that students who study more hours generally get higher scores.\n",
        "\n",
        "* Value close to 0: Indicates a weak or no linear relationship. If this were the result, it would imply that the number of hours studied has little or no impact on the scores obtained.\n",
        "\n",
        "* Value close to -1: Indicates a strong negative linear relationship. This scenario is unlikely in this dataset but would theoretically suggest that studying more hours leads to lower scores."
      ],
      "metadata": {
        "id": "ovHRyF5LSnKs"
      }
    },
    {
      "cell_type": "code",
      "source": [
        "#Covariance\n",
        "df.cov(numeric_only=True)"
      ],
      "metadata": {
        "colab": {
          "base_uri": "https://localhost:8080/",
          "height": 81
        },
        "id": "cfRr0NoFQfFr",
        "outputId": "cf007fe3-d3ad-4e0f-cbd9-3b59b1bf1b4e"
      },
      "execution_count": 29,
      "outputs": [
        {
          "output_type": "execute_result",
          "data": {
            "text/plain": [
              "          0\n",
              "0  0.944611"
            ],
            "text/html": [
              "\n",
              "  <div id=\"df-887c9a68-dd04-4c35-bbd1-7b19ce01b993\" class=\"colab-df-container\">\n",
              "    <div>\n",
              "<style scoped>\n",
              "    .dataframe tbody tr th:only-of-type {\n",
              "        vertical-align: middle;\n",
              "    }\n",
              "\n",
              "    .dataframe tbody tr th {\n",
              "        vertical-align: top;\n",
              "    }\n",
              "\n",
              "    .dataframe thead th {\n",
              "        text-align: right;\n",
              "    }\n",
              "</style>\n",
              "<table border=\"1\" class=\"dataframe\">\n",
              "  <thead>\n",
              "    <tr style=\"text-align: right;\">\n",
              "      <th></th>\n",
              "      <th>0</th>\n",
              "    </tr>\n",
              "  </thead>\n",
              "  <tbody>\n",
              "    <tr>\n",
              "      <th>0</th>\n",
              "      <td>0.944611</td>\n",
              "    </tr>\n",
              "  </tbody>\n",
              "</table>\n",
              "</div>\n",
              "    <div class=\"colab-df-buttons\">\n",
              "\n",
              "  <div class=\"colab-df-container\">\n",
              "    <button class=\"colab-df-convert\" onclick=\"convertToInteractive('df-887c9a68-dd04-4c35-bbd1-7b19ce01b993')\"\n",
              "            title=\"Convert this dataframe to an interactive table.\"\n",
              "            style=\"display:none;\">\n",
              "\n",
              "  <svg xmlns=\"http://www.w3.org/2000/svg\" height=\"24px\" viewBox=\"0 -960 960 960\">\n",
              "    <path d=\"M120-120v-720h720v720H120Zm60-500h600v-160H180v160Zm220 220h160v-160H400v160Zm0 220h160v-160H400v160ZM180-400h160v-160H180v160Zm440 0h160v-160H620v160ZM180-180h160v-160H180v160Zm440 0h160v-160H620v160Z\"/>\n",
              "  </svg>\n",
              "    </button>\n",
              "\n",
              "  <style>\n",
              "    .colab-df-container {\n",
              "      display:flex;\n",
              "      gap: 12px;\n",
              "    }\n",
              "\n",
              "    .colab-df-convert {\n",
              "      background-color: #E8F0FE;\n",
              "      border: none;\n",
              "      border-radius: 50%;\n",
              "      cursor: pointer;\n",
              "      display: none;\n",
              "      fill: #1967D2;\n",
              "      height: 32px;\n",
              "      padding: 0 0 0 0;\n",
              "      width: 32px;\n",
              "    }\n",
              "\n",
              "    .colab-df-convert:hover {\n",
              "      background-color: #E2EBFA;\n",
              "      box-shadow: 0px 1px 2px rgba(60, 64, 67, 0.3), 0px 1px 3px 1px rgba(60, 64, 67, 0.15);\n",
              "      fill: #174EA6;\n",
              "    }\n",
              "\n",
              "    .colab-df-buttons div {\n",
              "      margin-bottom: 4px;\n",
              "    }\n",
              "\n",
              "    [theme=dark] .colab-df-convert {\n",
              "      background-color: #3B4455;\n",
              "      fill: #D2E3FC;\n",
              "    }\n",
              "\n",
              "    [theme=dark] .colab-df-convert:hover {\n",
              "      background-color: #434B5C;\n",
              "      box-shadow: 0px 1px 3px 1px rgba(0, 0, 0, 0.15);\n",
              "      filter: drop-shadow(0px 1px 2px rgba(0, 0, 0, 0.3));\n",
              "      fill: #FFFFFF;\n",
              "    }\n",
              "  </style>\n",
              "\n",
              "    <script>\n",
              "      const buttonEl =\n",
              "        document.querySelector('#df-887c9a68-dd04-4c35-bbd1-7b19ce01b993 button.colab-df-convert');\n",
              "      buttonEl.style.display =\n",
              "        google.colab.kernel.accessAllowed ? 'block' : 'none';\n",
              "\n",
              "      async function convertToInteractive(key) {\n",
              "        const element = document.querySelector('#df-887c9a68-dd04-4c35-bbd1-7b19ce01b993');\n",
              "        const dataTable =\n",
              "          await google.colab.kernel.invokeFunction('convertToInteractive',\n",
              "                                                    [key], {});\n",
              "        if (!dataTable) return;\n",
              "\n",
              "        const docLinkHtml = 'Like what you see? Visit the ' +\n",
              "          '<a target=\"_blank\" href=https://colab.research.google.com/notebooks/data_table.ipynb>data table notebook</a>'\n",
              "          + ' to learn more about interactive tables.';\n",
              "        element.innerHTML = '';\n",
              "        dataTable['output_type'] = 'display_data';\n",
              "        await google.colab.output.renderOutput(dataTable, element);\n",
              "        const docLink = document.createElement('div');\n",
              "        docLink.innerHTML = docLinkHtml;\n",
              "        element.appendChild(docLink);\n",
              "      }\n",
              "    </script>\n",
              "  </div>\n",
              "\n",
              "\n",
              "    </div>\n",
              "  </div>\n"
            ],
            "application/vnd.google.colaboratory.intrinsic+json": {
              "type": "dataframe",
              "summary": "{\n  \"name\": \"df\",\n  \"rows\": 1,\n  \"fields\": [\n    {\n      \"column\": 0,\n      \"properties\": {\n        \"dtype\": \"number\",\n        \"std\": null,\n        \"min\": 0.9446114649458077,\n        \"max\": 0.9446114649458077,\n        \"num_unique_values\": 1,\n        \"samples\": [\n          0.9446114649458077\n        ],\n        \"semantic_type\": \"\",\n        \"description\": \"\"\n      }\n    }\n  ]\n}"
            }
          },
          "metadata": {},
          "execution_count": 29
        }
      ]
    },
    {
      "cell_type": "markdown",
      "source": [
        "Interpretation  of covariance of the given data:\n",
        "\n",
        "* Diagonal Values: The diagonal values in the matrix represent the variance of each variable. So, 2.5 is the variance of Hours, and 62.5 is the variance of Studied. Variance measures how spread out the data is for a single variable.\n",
        "\n",
        "Off-Diagonal Values: The off-diagonal values (12.5 in this case) represent the covariance between the two variables (Hours and Studied).\n",
        "\n",
        "* Positive Covariance: A positive covariance, like 12.5, indicates a positive relationship between the variables. This means that as Hours increases, Studied also tends to increase (and vice versa). In this example, it suggests that students who study more hours tend to have higher scores.\n",
        "Magnitude: The larger the magnitude of the covariance (ignoring the sign), the stronger the relationship. A covariance closer to zero would indicate a weaker relationship."
      ],
      "metadata": {
        "id": "u160nJvuRftO"
      }
    }
  ]
}